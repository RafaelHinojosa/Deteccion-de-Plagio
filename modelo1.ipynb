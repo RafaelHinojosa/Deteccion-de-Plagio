{
 "cells": [
  {
   "attachments": {},
   "cell_type": "markdown",
   "metadata": {},
   "source": [
    "# Modelo 1"
   ]
  },
  {
   "cell_type": "code",
   "execution_count": 2,
   "metadata": {},
   "outputs": [],
   "source": [
    "import pandas as pd\n",
    "import numpy as np\n",
    "from sklearn.preprocessing import LabelBinarizer\n",
    "\n",
    "from sklearn.model_selection import train_test_split\n",
    "from sklearn.feature_extraction.text import TfidfVectorizer\n",
    "from sklearn.linear_model import LogisticRegression\n",
    "from sklearn.metrics import accuracy_score\n"
   ]
  },
  {
   "cell_type": "code",
   "execution_count": 3,
   "metadata": {},
   "outputs": [],
   "source": [
    "# Cargar los datos\n",
    "df = pd.read_csv('base.csv')"
   ]
  },
  {
   "cell_type": "code",
   "execution_count": 4,
   "metadata": {},
   "outputs": [],
   "source": [
    "# Dividir en train y test (75% train, 25% test)\n",
    "train_df, test_df = train_test_split(df, test_size=0.25, random_state=42)"
   ]
  },
  {
   "cell_type": "code",
   "execution_count": 5,
   "metadata": {},
   "outputs": [],
   "source": [
    "train_data = train_df[['Code1', 'Code2']]\n",
    "train_labels = train_df['Similitud']\n",
    "test_data = test_df[['Code1', 'Code2']]\n",
    "test_labels = test_df['Similitud']"
   ]
  },
  {
   "cell_type": "code",
   "execution_count": 6,
   "metadata": {},
   "outputs": [],
   "source": [
    "# Crear un vectorizador TF-IDF para convertir los códigos en características numéricas\n",
    "vectorizer = TfidfVectorizer()\n",
    "train_features = vectorizer.fit_transform(train_data['Code1'] + train_data['Code2'])\n",
    "test_features = vectorizer.transform(test_data['Code1'] + test_data['Code2'])\n",
    "\n",
    "# Convertir los valores de similitud en etiquetas binarias\n",
    "binarizer = LabelBinarizer()\n",
    "train_labels = binarizer.fit_transform(np.round(train_df['Similitud']))\n",
    "test_labels = binarizer.transform(np.round(test_df['Similitud']))"
   ]
  },
  {
   "cell_type": "code",
   "execution_count": 7,
   "metadata": {},
   "outputs": [
    {
     "name": "stdout",
     "output_type": "stream",
     "text": [
      "Precisión del modelo: 0.6228070175438597\n"
     ]
    },
    {
     "name": "stderr",
     "output_type": "stream",
     "text": [
      "c:\\Users\\Keyuan\\AppData\\Local\\Programs\\Python\\Python310\\lib\\site-packages\\sklearn\\utils\\validation.py:1111: DataConversionWarning: A column-vector y was passed when a 1d array was expected. Please change the shape of y to (n_samples, ), for example using ravel().\n",
      "  y = column_or_1d(y, warn=True)\n"
     ]
    }
   ],
   "source": [
    "# Entrenar un modelo de regresión logística para clasificación binaria\n",
    "model = LogisticRegression()\n",
    "model.fit(train_features, train_labels)\n",
    "\n",
    "# Predecir la similitud en el conjunto de prueba\n",
    "predictions = model.predict(test_features)\n",
    "\n",
    "# Calcular la precisión del modelo\n",
    "accuracy = accuracy_score(test_labels, predictions)\n",
    "print(\"Precisión del modelo:\", accuracy)"
   ]
  }
 ],
 "metadata": {
  "kernelspec": {
   "display_name": "Python 3",
   "language": "python",
   "name": "python3"
  },
  "language_info": {
   "codemirror_mode": {
    "name": "ipython",
    "version": 3
   },
   "file_extension": ".py",
   "mimetype": "text/x-python",
   "name": "python",
   "nbconvert_exporter": "python",
   "pygments_lexer": "ipython3",
   "version": "3.10.6"
  },
  "orig_nbformat": 4
 },
 "nbformat": 4,
 "nbformat_minor": 2
}
