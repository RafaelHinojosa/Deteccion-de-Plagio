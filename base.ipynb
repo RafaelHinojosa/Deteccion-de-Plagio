{
 "cells": [
  {
   "cell_type": "code",
   "execution_count": 1,
   "metadata": {},
   "outputs": [],
   "source": [
    "import pandas as pd\n",
    "from sklearn.feature_extraction.text import TfidfVectorizer\n",
    "from sklearn.metrics.pairwise import cosine_similarity"
   ]
  },
  {
   "cell_type": "code",
   "execution_count": null,
   "metadata": {},
   "outputs": [],
   "source": []
  },
  {
   "cell_type": "code",
   "execution_count": 2,
   "metadata": {},
   "outputs": [
    {
     "data": {
      "text/plain": [
       "['import java.io.*;\\nimport java.util.*;\\n\\npublic class D_Java {\\n\\tpublic static final int MOD = 998244353;\\n\\t\\n\\tpublic static int mul(int a, int b) {\\n\\t\\treturn (int)((long)a * (long)b % MOD);\\n\\t}\\n\\t\\n\\tint[] f;\\n\\tint[] rf;\\n\\t\\n\\tpublic int C(int n, int k) {\\n\\t\\treturn (k < 0 || k > n) ? 0 : mul(f[n], mul(rf[n-k], rf[k]));\\n\\t}\\n\\t\\n\\tpublic static int pow(int a, int n) {\\n\\t\\tint res = 1;\\n\\t\\twhile (n != 0) {\\n\\t\\t\\tif ((n & 1) == 1) {\\n\\t\\t\\t\\tres = mul(res, a);\\n\\t\\t\\t}\\n\\t\\t\\ta = mul(a, a);\\n\\t\\t\\tn >>= 1;\\n\\t\\t}\\n\\t\\treturn res;\\n\\t}\\n\\t\\n\\tstatic void shuffleArray(int[] a) {\\n\\t\\tRandom rnd = new Random();\\n\\t\\tfor (int i = a.length-1; i > 0; i--) {\\n\\t\\t\\tint index = rnd.nextInt(i + 1);\\n\\t\\t\\tint tmp = a[index];\\n\\t\\t\\ta[index] = a[i];\\n\\t\\t\\ta[i] = tmp;\\n\\t\\t}\\n\\t}\\n\\t\\n\\tpublic static int inv(int a) {\\n\\t\\treturn pow(a, MOD-2);\\n\\t}\\n\\t\\n\\tpublic void doIt() throws IOException {\\n\\t\\tBufferedReader in = new BufferedReader(new InputStreamReader(System.in));\\n\\t\\t\\n\\t\\tStringTokenizer tok = new StringTokenizer(in.readLine());\\n\\t\\tint n = Integer.parseInt(tok.nextToken());\\n\\t\\tint k = Integer.parseInt(tok.nextToken());\\n\\t\\t\\n\\t\\tf = new int[n+42];\\n\\t\\trf = new int[n+42];\\n\\t\\tf[0] = rf[0] = 1;\\n\\t\\tfor (int i = 1; i < f.length; ++i) {\\n\\t\\t\\tf[i] = mul(f[i-1], i);\\n\\t\\t\\trf[i] = mul(rf[i-1], inv(i));\\n\\t\\t}\\n\\t\\t\\n\\t\\tint[] events = new int[2*n];\\n\\t\\tfor (int i = 0; i < n; ++i) {\\n\\t\\t\\ttok = new StringTokenizer(in.readLine());\\n\\t\\t\\tint le = Integer.parseInt(tok.nextToken());\\n\\t\\t\\tint ri = Integer.parseInt(tok.nextToken());\\n\\t\\t\\tevents[i] = le*2;\\n\\t\\t\\tevents[i + n] = ri*2 + 1;\\n\\t\\t}\\n\\t\\tshuffleArray(events);\\n\\t\\tArrays.sort(events);\\n\\t\\t\\n\\t\\tint ans = 0;\\n\\t\\tint balance = 0;\\n\\t\\tfor (int r = 0; r < 2*n;) {\\n\\t\\t\\tint l = r;\\n\\t\\t\\twhile (r < 2*n && events[l] == events[r]) {\\n\\t\\t\\t\\t++r;\\n\\t\\t\\t}\\n\\t\\t\\tint added = r - l;\\n\\t\\t\\tif (events[l] % 2 == 0) {\\n\\t\\t\\t\\t// Open event\\n\\t\\t\\t\\tans += C(balance + added, k);\\n\\t\\t\\t\\tif (ans >= MOD) ans -= MOD;\\n\\t\\t\\t\\tans += MOD - C(balance, k);\\n\\t\\t\\t\\tif (ans >= MOD) ans -= MOD;\\n\\t\\t\\t\\tbalance += added;\\n\\t\\t\\t} else {\\n\\t\\t\\t\\t// Close event\\n\\t\\t\\t\\tbalance -= added;\\n\\t\\t\\t}\\n\\t\\t}\\n\\t\\t\\n\\t\\tin.close();\\n\\t\\tSystem.out.println(ans);\\n\\t}\\n\\t\\n\\tpublic static void main(String[] args) throws IOException {\\n\\t\\t(new D_Java()).doIt();\\n\\t}\\n}\\n']"
      ]
     },
     "execution_count": 2,
     "metadata": {},
     "output_type": "execute_result"
    }
   ],
   "source": [
    "corpus = []\n",
    "corpus.append(open('./3e6def38.java', 'r').read())\n",
    "corpus"
   ]
  },
  {
   "cell_type": "code",
   "execution_count": 3,
   "metadata": {},
   "outputs": [
    {
     "data": {
      "text/plain": [
       "['import java.io.*;\\nimport java.util.*;\\n\\npublic class D_Java {\\n\\tpublic static final int MOD = 998244353;\\n\\t\\n\\tpublic static int mul(int a, int b) {\\n\\t\\treturn (int)((long)a * (long)b % MOD);\\n\\t}\\n\\t\\n\\tint[] f;\\n\\tint[] rf;\\n\\t\\n\\tpublic int C(int n, int k) {\\n\\t\\treturn (k < 0 || k > n) ? 0 : mul(f[n], mul(rf[n-k], rf[k]));\\n\\t}\\n\\t\\n\\tpublic static int pow(int a, int n) {\\n\\t\\tint res = 1;\\n\\t\\twhile (n != 0) {\\n\\t\\t\\tif ((n & 1) == 1) {\\n\\t\\t\\t\\tres = mul(res, a);\\n\\t\\t\\t}\\n\\t\\t\\ta = mul(a, a);\\n\\t\\t\\tn >>= 1;\\n\\t\\t}\\n\\t\\treturn res;\\n\\t}\\n\\t\\n\\tstatic void shuffleArray(int[] a) {\\n\\t\\tRandom rnd = new Random();\\n\\t\\tfor (int i = a.length-1; i > 0; i--) {\\n\\t\\t\\tint index = rnd.nextInt(i + 1);\\n\\t\\t\\tint tmp = a[index];\\n\\t\\t\\ta[index] = a[i];\\n\\t\\t\\ta[i] = tmp;\\n\\t\\t}\\n\\t}\\n\\t\\n\\tpublic static int inv(int a) {\\n\\t\\treturn pow(a, MOD-2);\\n\\t}\\n\\t\\n\\tpublic void doIt() throws IOException {\\n\\t\\tBufferedReader in = new BufferedReader(new InputStreamReader(System.in));\\n\\t\\t\\n\\t\\tStringTokenizer tok = new StringTokenizer(in.readLine());\\n\\t\\tint n = Integer.parseInt(tok.nextToken());\\n\\t\\tint k = Integer.parseInt(tok.nextToken());\\n\\t\\t\\n\\t\\tf = new int[n+42];\\n\\t\\trf = new int[n+42];\\n\\t\\tf[0] = rf[0] = 1;\\n\\t\\tfor (int i = 1; i < f.length; ++i) {\\n\\t\\t\\tf[i] = mul(f[i-1], i);\\n\\t\\t\\trf[i] = mul(rf[i-1], inv(i));\\n\\t\\t}\\n\\t\\t\\n\\t\\tint[] events = new int[2*n];\\n\\t\\tfor (int i = 0; i < n; ++i) {\\n\\t\\t\\ttok = new StringTokenizer(in.readLine());\\n\\t\\t\\tint le = Integer.parseInt(tok.nextToken());\\n\\t\\t\\tint ri = Integer.parseInt(tok.nextToken());\\n\\t\\t\\tevents[i] = le*2;\\n\\t\\t\\tevents[i + n] = ri*2 + 1;\\n\\t\\t}\\n\\t\\tshuffleArray(events);\\n\\t\\tArrays.sort(events);\\n\\t\\t\\n\\t\\tint ans = 0;\\n\\t\\tint balance = 0;\\n\\t\\tfor (int r = 0; r < 2*n;) {\\n\\t\\t\\tint l = r;\\n\\t\\t\\twhile (r < 2*n && events[l] == events[r]) {\\n\\t\\t\\t\\t++r;\\n\\t\\t\\t}\\n\\t\\t\\tint added = r - l;\\n\\t\\t\\tif (events[l] % 2 == 0) {\\n\\t\\t\\t\\t// Open event\\n\\t\\t\\t\\tans += C(balance + added, k);\\n\\t\\t\\t\\tif (ans >= MOD) ans -= MOD;\\n\\t\\t\\t\\tans += MOD - C(balance, k);\\n\\t\\t\\t\\tif (ans >= MOD) ans -= MOD;\\n\\t\\t\\t\\tbalance += added;\\n\\t\\t\\t} else {\\n\\t\\t\\t\\t// Close event\\n\\t\\t\\t\\tbalance -= added;\\n\\t\\t\\t}\\n\\t\\t}\\n\\t\\t\\n\\t\\tin.close();\\n\\t\\tSystem.out.println(ans);\\n\\t}\\n\\t\\n\\tpublic static void main(String[] args) throws IOException {\\n\\t\\t(new D_Java()).doIt();\\n\\t}\\n}\\n',\n",
       " 'import java.io.*;\\nimport java.util.*;\\n\\npublic class D_Java {\\n\\tpublic static final int MOD = 998244353;\\n\\t\\n\\tpublic static int mul(int a, int b) {\\n\\t\\treturn (int)((long)a * (long)b % MOD);\\n\\t}\\n\\t\\n\\tint[] f;\\n\\tint[] rf;\\n\\t\\n\\tpublic int C(int n, int k) {\\n\\t\\treturn (k < 0 || k > n) ? 0 : mul(f[n], mul(rf[n-k], rf[k]));\\n\\t}\\n\\t\\n\\tpublic static int pow(int a, int n) {\\n\\t\\tint res = 1;\\n\\t\\twhile (n != 0) {\\n\\t\\t\\tif ((n & 1) == 1) {\\n\\t\\t\\t\\tres = mul(res, a);\\n\\t\\t\\t}\\n\\t\\t\\ta = mul(a, a);\\n\\t\\t\\tn >>= 1;\\n\\t\\t}\\n\\t\\treturn res;\\n\\t}\\n\\t\\n\\tpublic static int inv(int a) {\\n\\t\\treturn pow(a, MOD-2);\\n\\t}\\n\\t\\n\\tpublic void doIt() throws IOException {\\n\\t\\tBufferedReader in = new BufferedReader(new InputStreamReader(System.in));\\n\\t\\t\\n\\t\\tStringTokenizer tok = new StringTokenizer(in.readLine());\\n\\t\\tint n = Integer.parseInt(tok.nextToken());\\n\\t\\tint k = Integer.parseInt(tok.nextToken());\\n\\t\\t\\n\\t\\tf = new int[n+42];\\n\\t\\trf = new int[n+42];\\n\\t\\tf[0] = rf[0] = 1;\\n\\t\\tfor (int i = 1; i < f.length; ++i) {\\n\\t\\t\\tf[i] = mul(f[i-1], i);\\n\\t\\t\\trf[i] = mul(rf[i-1], inv(i));\\n\\t\\t}\\n\\t\\t\\n\\t\\tint[] events = new int[2*n];\\n\\t\\tfor (int i = 0; i < n; ++i) {\\n\\t\\t\\ttok = new StringTokenizer(in.readLine());\\n\\t\\t\\tint le = Integer.parseInt(tok.nextToken());\\n\\t\\t\\tint ri = Integer.parseInt(tok.nextToken());\\n\\t\\t\\tevents[i] = le*2;\\n\\t\\t\\tevents[i + n] = ri*2 + 1;\\n\\t\\t}\\n\\t\\tArrays.sort(events);\\n\\t\\t\\n\\t\\tint ans = 0;\\n\\t\\tint balance = 0;\\n\\t\\tfor (int r = 0; r < 2*n;) {\\n\\t\\t\\tint l = r;\\n\\t\\t\\twhile (r < 2*n && events[l] == events[r]) {\\n\\t\\t\\t\\t++r;\\n\\t\\t\\t}\\n\\t\\t\\tint added = r - l;\\n\\t\\t\\tif (events[l] % 2 == 0) {\\n\\t\\t\\t\\t// Open event\\n\\t\\t\\t\\tans += C(balance + added, k);\\n\\t\\t\\t\\tif (ans >= MOD) ans -= MOD;\\n\\t\\t\\t\\tans += MOD - C(balance, k);\\n\\t\\t\\t\\tif (ans >= MOD) ans -= MOD;\\n\\t\\t\\t\\tbalance += added;\\n\\t\\t\\t} else {\\n\\t\\t\\t\\t// Close event\\n\\t\\t\\t\\tbalance -= added;\\n\\t\\t\\t}\\n\\t\\t}\\n\\t\\t\\n\\t\\tin.close();\\n\\t\\tSystem.out.println(ans);\\n\\t}\\n\\t\\n\\tpublic static void main(String[] args) throws IOException {\\n\\t\\t(new D_Java()).doIt();\\n\\t}\\n}\\n']"
      ]
     },
     "execution_count": 3,
     "metadata": {},
     "output_type": "execute_result"
    }
   ],
   "source": [
    "corpus.append(open(\"./548ffb07.java\", 'r').read())\n",
    "corpus"
   ]
  },
  {
   "cell_type": "code",
   "execution_count": 4,
   "metadata": {},
   "outputs": [],
   "source": [
    "vectorizer = TfidfVectorizer()\n",
    "\n",
    "# TD-IDF Matrix\n",
    "X = vectorizer.fit_transform(corpus)\n",
    "\n",
    "# extracting feature names\n",
    "tfidf_tokens = vectorizer.get_feature_names_out()"
   ]
  },
  {
   "cell_type": "code",
   "execution_count": 8,
   "metadata": {},
   "outputs": [
    {
     "data": {
      "text/plain": [
       "array(['42', '998244353', 'added', 'ans', 'args', 'arrays', 'balance',\n",
       "       'bufferedreader', 'class', 'close', 'd_java', 'doit', 'else',\n",
       "       'event', 'events', 'final', 'for', 'if', 'import', 'in', 'index',\n",
       "       'inputstreamreader', 'int', 'integer', 'inv', 'io', 'ioexception',\n",
       "       'java', 'le', 'length', 'long', 'main', 'mod', 'mul', 'new',\n",
       "       'nextint', 'nexttoken', 'open', 'out', 'parseint', 'pow',\n",
       "       'println', 'public', 'random', 'readline', 'res', 'return', 'rf',\n",
       "       'ri', 'rnd', 'shufflearray', 'sort', 'static', 'string',\n",
       "       'stringtokenizer', 'system', 'throws', 'tmp', 'tok', 'util',\n",
       "       'void', 'while'], dtype=object)"
      ]
     },
     "execution_count": 8,
     "metadata": {},
     "output_type": "execute_result"
    }
   ],
   "source": [
    "tfidf_tokens"
   ]
  },
  {
   "cell_type": "code",
   "execution_count": 7,
   "metadata": {},
   "outputs": [
    {
     "data": {
      "text/html": [
       "<div>\n",
       "<style scoped>\n",
       "    .dataframe tbody tr th:only-of-type {\n",
       "        vertical-align: middle;\n",
       "    }\n",
       "\n",
       "    .dataframe tbody tr th {\n",
       "        vertical-align: top;\n",
       "    }\n",
       "\n",
       "    .dataframe thead th {\n",
       "        text-align: right;\n",
       "    }\n",
       "</style>\n",
       "<table border=\"1\" class=\"dataframe\">\n",
       "  <thead>\n",
       "    <tr style=\"text-align: right;\">\n",
       "      <th></th>\n",
       "      <th>42</th>\n",
       "      <th>998244353</th>\n",
       "      <th>added</th>\n",
       "      <th>ans</th>\n",
       "      <th>args</th>\n",
       "      <th>arrays</th>\n",
       "      <th>balance</th>\n",
       "      <th>bufferedreader</th>\n",
       "      <th>class</th>\n",
       "      <th>close</th>\n",
       "      <th>...</th>\n",
       "      <th>static</th>\n",
       "      <th>string</th>\n",
       "      <th>stringtokenizer</th>\n",
       "      <th>system</th>\n",
       "      <th>throws</th>\n",
       "      <th>tmp</th>\n",
       "      <th>tok</th>\n",
       "      <th>util</th>\n",
       "      <th>void</th>\n",
       "      <th>while</th>\n",
       "    </tr>\n",
       "  </thead>\n",
       "  <tbody>\n",
       "    <tr>\n",
       "      <th>Code1</th>\n",
       "      <td>0.043955</td>\n",
       "      <td>0.021977</td>\n",
       "      <td>0.08791</td>\n",
       "      <td>0.17582</td>\n",
       "      <td>0.021977</td>\n",
       "      <td>0.021977</td>\n",
       "      <td>0.109887</td>\n",
       "      <td>0.043955</td>\n",
       "      <td>0.021977</td>\n",
       "      <td>0.043955</td>\n",
       "      <td>...</td>\n",
       "      <td>0.131865</td>\n",
       "      <td>0.021977</td>\n",
       "      <td>0.065932</td>\n",
       "      <td>0.043955</td>\n",
       "      <td>0.043955</td>\n",
       "      <td>0.061777</td>\n",
       "      <td>0.131865</td>\n",
       "      <td>0.021977</td>\n",
       "      <td>0.065932</td>\n",
       "      <td>0.043955</td>\n",
       "    </tr>\n",
       "    <tr>\n",
       "      <th>Code2</th>\n",
       "      <td>0.048550</td>\n",
       "      <td>0.024275</td>\n",
       "      <td>0.09710</td>\n",
       "      <td>0.19420</td>\n",
       "      <td>0.024275</td>\n",
       "      <td>0.024275</td>\n",
       "      <td>0.121375</td>\n",
       "      <td>0.048550</td>\n",
       "      <td>0.024275</td>\n",
       "      <td>0.048550</td>\n",
       "      <td>...</td>\n",
       "      <td>0.121375</td>\n",
       "      <td>0.024275</td>\n",
       "      <td>0.072825</td>\n",
       "      <td>0.048550</td>\n",
       "      <td>0.048550</td>\n",
       "      <td>0.000000</td>\n",
       "      <td>0.145650</td>\n",
       "      <td>0.024275</td>\n",
       "      <td>0.048550</td>\n",
       "      <td>0.048550</td>\n",
       "    </tr>\n",
       "  </tbody>\n",
       "</table>\n",
       "<p>2 rows × 62 columns</p>\n",
       "</div>"
      ],
      "text/plain": [
       "             42  998244353    added      ans      args    arrays   balance  \\\n",
       "Code1  0.043955   0.021977  0.08791  0.17582  0.021977  0.021977  0.109887   \n",
       "Code2  0.048550   0.024275  0.09710  0.19420  0.024275  0.024275  0.121375   \n",
       "\n",
       "       bufferedreader     class     close  ...    static    string  \\\n",
       "Code1        0.043955  0.021977  0.043955  ...  0.131865  0.021977   \n",
       "Code2        0.048550  0.024275  0.048550  ...  0.121375  0.024275   \n",
       "\n",
       "       stringtokenizer    system    throws       tmp       tok      util  \\\n",
       "Code1         0.065932  0.043955  0.043955  0.061777  0.131865  0.021977   \n",
       "Code2         0.072825  0.048550  0.048550  0.000000  0.145650  0.024275   \n",
       "\n",
       "           void     while  \n",
       "Code1  0.065932  0.043955  \n",
       "Code2  0.048550  0.048550  \n",
       "\n",
       "[2 rows x 62 columns]"
      ]
     },
     "execution_count": 7,
     "metadata": {},
     "output_type": "execute_result"
    }
   ],
   "source": [
    "result = pd.DataFrame(\n",
    "        data=X.toarray(), \n",
    "        index=[\"Code1\", \"Code2\"], \n",
    "        columns=tfidf_tokens\n",
    ")\n",
    "result"
   ]
  },
  {
   "cell_type": "code",
   "execution_count": 6,
   "metadata": {},
   "outputs": [
    {
     "data": {
      "text/plain": [
       "0.9853787290627724"
      ]
     },
     "execution_count": 6,
     "metadata": {},
     "output_type": "execute_result"
    }
   ],
   "source": [
    "similarity_matrix = cosine_similarity(X,X)\n",
    "similarity_matrix[0][1]"
   ]
  }
 ],
 "metadata": {
  "kernelspec": {
   "display_name": "Python 3",
   "language": "python",
   "name": "python3"
  },
  "language_info": {
   "codemirror_mode": {
    "name": "ipython",
    "version": 3
   },
   "file_extension": ".py",
   "mimetype": "text/x-python",
   "name": "python",
   "nbconvert_exporter": "python",
   "pygments_lexer": "ipython3",
   "version": "3.10.6"
  },
  "orig_nbformat": 4
 },
 "nbformat": 4,
 "nbformat_minor": 2
}
